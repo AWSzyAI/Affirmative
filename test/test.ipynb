{
 "cells": [
  {
   "cell_type": "code",
   "execution_count": null,
   "metadata": {},
   "outputs": [
    {
     "data": {
      "text/plain": [
       "Index(['序号', '自我肯定语-V1', '字数', '负责人', '标注', '备注', 'Unnamed: 6', 'Unnamed: 7',\n",
       "       'Unnamed: 8', 'Unnamed: 9', 'Unnamed: 10', 'Unnamed: 11', 'Unnamed: 12',\n",
       "       'Unnamed: 13', 'Unnamed: 14', 'Unnamed: 15', 'Unnamed: 16',\n",
       "       'Unnamed: 17', 'Unnamed: 18', 'Unnamed: 19', 'Unnamed: 20',\n",
       "       'Unnamed: 21'],\n",
       "      dtype='object')"
      ]
     },
     "execution_count": 4,
     "metadata": {},
     "output_type": "execute_result"
    }
   ],
   "source": [
    "import pandas as pd\n",
    "\n",
    "df = pd.read_csv('../data/协作表 - V1 - 待审查.csv')\n",
    "df = df[['自我肯定语-V1', '字数']]"
   ]
  },
  {
   "cell_type": "code",
   "execution_count": 7,
   "metadata": {},
   "outputs": [
    {
     "data": {
      "text/html": [
       "<div>\n",
       "<style scoped>\n",
       "    .dataframe tbody tr th:only-of-type {\n",
       "        vertical-align: middle;\n",
       "    }\n",
       "\n",
       "    .dataframe tbody tr th {\n",
       "        vertical-align: top;\n",
       "    }\n",
       "\n",
       "    .dataframe thead th {\n",
       "        text-align: right;\n",
       "    }\n",
       "</style>\n",
       "<table border=\"1\" class=\"dataframe\">\n",
       "  <thead>\n",
       "    <tr style=\"text-align: right;\">\n",
       "      <th></th>\n",
       "      <th>自我肯定语-V1</th>\n",
       "      <th>字数</th>\n",
       "    </tr>\n",
       "  </thead>\n",
       "  <tbody>\n",
       "    <tr>\n",
       "      <th>0</th>\n",
       "      <td>我的价值绝大部分由我自身决定。</td>\n",
       "      <td>15</td>\n",
       "    </tr>\n",
       "    <tr>\n",
       "      <th>1</th>\n",
       "      <td>我对自己的信任是成功的关键。</td>\n",
       "      <td>14</td>\n",
       "    </tr>\n",
       "    <tr>\n",
       "      <th>2</th>\n",
       "      <td>我拥有超越困难的内在力量。</td>\n",
       "      <td>13</td>\n",
       "    </tr>\n",
       "    <tr>\n",
       "      <th>3</th>\n",
       "      <td>我接受自己的不完美，依然自信满满。</td>\n",
       "      <td>17</td>\n",
       "    </tr>\n",
       "    <tr>\n",
       "      <th>4</th>\n",
       "      <td>我的每一步都是自我肯定的证明。</td>\n",
       "      <td>15</td>\n",
       "    </tr>\n",
       "  </tbody>\n",
       "</table>\n",
       "</div>"
      ],
      "text/plain": [
       "            自我肯定语-V1  字数\n",
       "0    我的价值绝大部分由我自身决定。  15\n",
       "1     我对自己的信任是成功的关键。  14\n",
       "2      我拥有超越困难的内在力量。  13\n",
       "3  我接受自己的不完美，依然自信满满。  17\n",
       "4    我的每一步都是自我肯定的证明。  15"
      ]
     },
     "execution_count": 7,
     "metadata": {},
     "output_type": "execute_result"
    }
   ],
   "source": [
    "\n",
    "df.head()"
   ]
  },
  {
   "cell_type": "code",
   "execution_count": 10,
   "metadata": {},
   "outputs": [],
   "source": [
    "import sys\n",
    "sys.path.append('../src')\n",
    "from kimi_api import client"
   ]
  },
  {
   "cell_type": "code",
   "execution_count": null,
   "metadata": {},
   "outputs": [],
   "source": [
    "role_prompt = \"\"\"\n",
    "你是一个情感分析专家，负责对句子进行四个维度的标注：\n",
    "1. 合集（句子一对一）\n",
    "    选项：\n",
    "        情感疗愈: 提及和“情感”、“亲密关系”相关的词语\n",
    "        自信: 有力量感，自信感，提及“我能”或其他自我认知矫正的词语\n",
    "        平和心境: 提及“情绪”或具体的情绪感受，提及“平和”、“安宁”、“感恩已拥有的”\n",
    "        治愈之旅: 有非常明显的安慰性，提及自我接纳\n",
    "        人际交往: 提及和他人、沟通相关的词语\n",
    "        自我关怀: 提及爱自己、健康、快乐、休息、身体、运动、饮食、身体动作如呼吸等相关的词语\n",
    "        个人成长: 提及和成长、事业、工作、学习、产出、创造相关的词语\n",
    "        成为英雄: 提及和勇敢勇气、原谅、牺牲、遗产、理想相关的词语\n",
    "2. 感情状况（句子一对多）\n",
    "3. 最近的感觉（句子一对多）\n",
    "4. 什么让你有这种感觉（句子一对多）\n",
    "\n",
    "请根据提供的句子特征进行标注，并返回JSON格式的结果。以下是返回结果的JSON示例：\n",
    "\n",
    "{\n",
    "  \"合集\": \"情感疗愈\",\n",
    "  \"感情状况\": [\"正在恋爱\", \"快乐地单身着\"],\n",
    "  \"最近的感觉\": [\"开心\", \"很好\"],\n",
    "  \"什么让你有这种感觉\": [\"家庭\", \"朋友\"]\n",
    "}\n",
    "\n",
    "请确保返回的JSON格式与示例一致，并根据句子的实际内容进行标注。\n",
    "\"\"\""
   ]
  },
  {
   "cell_type": "code",
   "execution_count": null,
   "metadata": {},
   "outputs": [],
   "source": [
    "import json\n",
    "def get_annotations(sentence):\n",
    "    message = f\"请对以下句子进行标注：{sentence}\"\n",
    "    messages = [\n",
    "        {\"role\": \"system\", \"content\": role_prompt},\n",
    "        {\"role\": \"user\", \"content\": message}\n",
    "    ]\n",
    "    completion = client.chat.completions.create(\n",
    "        model=\"moonshot-v1-auto\",\n",
    "        messages=messages,\n",
    "        temperature=1,\n",
    "        response_format={\"type\": \"json_object\"},  # 确保返回 JSON 格式\n",
    "        n=1  # 请求返回1个结果\n",
    "    )\n",
    "    response = completion.choices[0].message.content.strip()\n",
    "    try:\n",
    "        response_dict = json.loads(response)\n",
    "        return response_dict\n",
    "    except json.JSONDecodeError:\n",
    "        return {\"error\": \"Invalid JSON response\"}"
   ]
  },
  {
   "cell_type": "code",
   "execution_count": null,
   "metadata": {},
   "outputs": [],
   "source": [
    "results = []\n",
    "for index, row in df.iterrows():\n",
    "    sentence = row['自我肯定语-V1']\n",
    "    annotations = get_annotations(sentence)\n",
    "    results.append({\n",
    "        \"句子\": sentence,\n",
    "        \"合集\": annotations.get(\"合集\", \"\"),\n",
    "        \"感情状况\": annotations.get(\"感情状况\", \"\"),\n",
    "        \"最近的感觉\": annotations.get(\"最近的感觉\", \"\"),\n",
    "        \"什么让你有这种感觉\": annotations.get(\"什么让你有这种感觉\", \"\")\n",
    "    })\n",
    "\n",
    "# 将结果转换为DataFrame并导出为CSV\n",
    "results_df = pd.DataFrame(results)\n",
    "results_df.to_csv('../data/标注结果.csv', index=False)\n",
    "\n",
    "print(\"标注完成，结果已导出为标注结果.csv\")"
   ]
  }
 ],
 "metadata": {
  "kernelspec": {
   "display_name": "Caritas",
   "language": "python",
   "name": "python3"
  },
  "language_info": {
   "codemirror_mode": {
    "name": "ipython",
    "version": 3
   },
   "file_extension": ".py",
   "mimetype": "text/x-python",
   "name": "python",
   "nbconvert_exporter": "python",
   "pygments_lexer": "ipython3",
   "version": "3.12.7"
  }
 },
 "nbformat": 4,
 "nbformat_minor": 2
}
